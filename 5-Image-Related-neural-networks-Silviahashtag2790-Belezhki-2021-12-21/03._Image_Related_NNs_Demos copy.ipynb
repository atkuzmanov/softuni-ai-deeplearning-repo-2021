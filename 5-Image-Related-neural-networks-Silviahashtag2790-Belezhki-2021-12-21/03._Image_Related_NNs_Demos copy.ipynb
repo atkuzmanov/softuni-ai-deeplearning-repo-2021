{
 "cells": [
  {
   "cell_type": "code",
   "execution_count": 1,
   "metadata": {},
   "outputs": [],
   "source": [
    "%matplotlib inline"
   ]
  },
  {
   "cell_type": "code",
   "execution_count": 64,
   "metadata": {},
   "outputs": [],
   "source": [
    "import numpy as np\n",
    "import pandas as pd\n",
    "import matplotlib.pyplot as plt\n",
    "\n",
    "import os\n",
    "\n",
    "import tensorflow as tf\n",
    "\n",
    "from tensorflow.keras.models import Sequential, Model\n",
    "\n",
    "from tensorflow.keras.layers import Input, Dense, Conv2D, MaxPool2D, Flatten, BatchNormalization, Dropout\n",
    "\n",
    "from tensorflow.keras.callbacks import ModelCheckpoint\n",
    "\n",
    "from tensorflow.keras.datasets import mnist"
   ]
  },
  {
   "cell_type": "code",
   "execution_count": 3,
   "metadata": {},
   "outputs": [
    {
     "data": {
      "text/plain": [
       "[PhysicalDevice(name='/physical_device:CPU:0', device_type='CPU')]"
      ]
     },
     "execution_count": 3,
     "metadata": {},
     "output_type": "execute_result"
    }
   ],
   "source": [
    "tf.config.list_physical_devices()"
   ]
  },
  {
   "cell_type": "code",
   "execution_count": 41,
   "metadata": {},
   "outputs": [],
   "source": [
    "tf.keras.backend.clear_session()"
   ]
  },
  {
   "cell_type": "code",
   "execution_count": 5,
   "metadata": {},
   "outputs": [],
   "source": [
    "input_layer = Input(shape = (40, ))\n",
    "dense1 = Dense(10)(input_layer)\n",
    "dense2 = Dense(10)(dense1)\n",
    "dense3 = Dense(10)(dense2)\n",
    "\n",
    "last_layer_class = Dense(4, activation = \"softmax\")(dense3)\n",
    "last_layer_regr = Dense(1, activation = None)(dense3)"
   ]
  },
  {
   "cell_type": "code",
   "execution_count": 6,
   "metadata": {},
   "outputs": [
    {
     "data": {
      "text/plain": [
       "<KerasTensor: shape=(None, 40) dtype=float32 (created by layer 'input_1')>"
      ]
     },
     "execution_count": 6,
     "metadata": {},
     "output_type": "execute_result"
    }
   ],
   "source": [
    "input_layer"
   ]
  },
  {
   "cell_type": "code",
   "execution_count": 7,
   "metadata": {},
   "outputs": [
    {
     "data": {
      "text/plain": [
       "<KerasTensor: shape=(None, 4) dtype=float32 (created by layer 'dense_3')>"
      ]
     },
     "execution_count": 7,
     "metadata": {},
     "output_type": "execute_result"
    }
   ],
   "source": [
    "last_layer_class"
   ]
  },
  {
   "cell_type": "code",
   "execution_count": 8,
   "metadata": {},
   "outputs": [
    {
     "data": {
      "text/plain": [
       "<KerasTensor: shape=(None, 1) dtype=float32 (created by layer 'dense_4')>"
      ]
     },
     "execution_count": 8,
     "metadata": {},
     "output_type": "execute_result"
    }
   ],
   "source": [
    "last_layer_regr"
   ]
  },
  {
   "cell_type": "code",
   "execution_count": 9,
   "metadata": {},
   "outputs": [],
   "source": [
    "model = Model(inputs = input_layer, outputs = [last_layer_class, last_layer_regr])"
   ]
  },
  {
   "cell_type": "code",
   "execution_count": 10,
   "metadata": {},
   "outputs": [
    {
     "name": "stdout",
     "output_type": "stream",
     "text": [
      "Model: \"model\"\n",
      "__________________________________________________________________________________________________\n",
      " Layer (type)                   Output Shape         Param #     Connected to                     \n",
      "==================================================================================================\n",
      " input_1 (InputLayer)           [(None, 40)]         0           []                               \n",
      "                                                                                                  \n",
      " dense (Dense)                  (None, 10)           410         ['input_1[0][0]']                \n",
      "                                                                                                  \n",
      " dense_1 (Dense)                (None, 10)           110         ['dense[0][0]']                  \n",
      "                                                                                                  \n",
      " dense_2 (Dense)                (None, 10)           110         ['dense_1[0][0]']                \n",
      "                                                                                                  \n",
      " dense_3 (Dense)                (None, 4)            44          ['dense_2[0][0]']                \n",
      "                                                                                                  \n",
      " dense_4 (Dense)                (None, 1)            11          ['dense_2[0][0]']                \n",
      "                                                                                                  \n",
      "==================================================================================================\n",
      "Total params: 685\n",
      "Trainable params: 685\n",
      "Non-trainable params: 0\n",
      "__________________________________________________________________________________________________\n"
     ]
    }
   ],
   "source": [
    "model.summary()"
   ]
  },
  {
   "cell_type": "code",
   "execution_count": 11,
   "metadata": {},
   "outputs": [],
   "source": [
    "cnn_model = Sequential([\n",
    "    Input(shape = (224, 224, 3)),\n",
    "    Conv2D(64, kernel_size = (3, 3), activation = \"relu\"),\n",
    "    Conv2D(64, kernel_size = (3, 3), activation = \"relu\"),\n",
    "    Conv2D(32, kernel_size = (3, 3), activation = \"relu\"),\n",
    "    Conv2D(32, kernel_size = (3, 3), activation = \"relu\"),\n",
    "    Conv2D(16, kernel_size = (3, 3), activation = \"relu\"),\n",
    "    Conv2D(16, kernel_size = (3, 3), activation = \"relu\")\n",
    "])"
   ]
  },
  {
   "cell_type": "code",
   "execution_count": 12,
   "metadata": {},
   "outputs": [
    {
     "name": "stdout",
     "output_type": "stream",
     "text": [
      "Model: \"sequential\"\n",
      "_________________________________________________________________\n",
      " Layer (type)                Output Shape              Param #   \n",
      "=================================================================\n",
      " conv2d (Conv2D)             (None, 222, 222, 64)      1792      \n",
      "                                                                 \n",
      " conv2d_1 (Conv2D)           (None, 220, 220, 64)      36928     \n",
      "                                                                 \n",
      " conv2d_2 (Conv2D)           (None, 218, 218, 32)      18464     \n",
      "                                                                 \n",
      " conv2d_3 (Conv2D)           (None, 216, 216, 32)      9248      \n",
      "                                                                 \n",
      " conv2d_4 (Conv2D)           (None, 214, 214, 16)      4624      \n",
      "                                                                 \n",
      " conv2d_5 (Conv2D)           (None, 212, 212, 16)      2320      \n",
      "                                                                 \n",
      "=================================================================\n",
      "Total params: 73,376\n",
      "Trainable params: 73,376\n",
      "Non-trainable params: 0\n",
      "_________________________________________________________________\n"
     ]
    }
   ],
   "source": [
    "cnn_model.summary()"
   ]
  },
  {
   "cell_type": "code",
   "execution_count": 23,
   "metadata": {},
   "outputs": [],
   "source": [
    "model = Sequential([\n",
    "    Input(shape = (224, 224, 3)),\n",
    "    Flatten(),\n",
    "    Dense(64, activation = \"relu\"),\n",
    "    Dense(64, activation = \"relu\"),\n",
    "    Dense(32, activation = \"relu\"),\n",
    "    Dense(32, activation = \"relu\"),\n",
    "    Dense(16, activation = \"relu\"),\n",
    "    Dense(16, activation = \"relu\"),\n",
    "    \n",
    "    Flatten(),\n",
    "    \n",
    "    Dense(30, activation = \"relu\"),\n",
    "    Dense(10, activation = \"relu\"),\n",
    "    Dense(5, activation = \"softmax\")\n",
    "])"
   ]
  },
  {
   "cell_type": "code",
   "execution_count": 24,
   "metadata": {},
   "outputs": [
    {
     "name": "stdout",
     "output_type": "stream",
     "text": [
      "Model: \"sequential_6\"\n",
      "_________________________________________________________________\n",
      " Layer (type)                Output Shape              Param #   \n",
      "=================================================================\n",
      " flatten_7 (Flatten)         (None, 150528)            0         \n",
      "                                                                 \n",
      " dense_38 (Dense)            (None, 64)                9633856   \n",
      "                                                                 \n",
      " dense_39 (Dense)            (None, 64)                4160      \n",
      "                                                                 \n",
      " dense_40 (Dense)            (None, 32)                2080      \n",
      "                                                                 \n",
      " dense_41 (Dense)            (None, 32)                1056      \n",
      "                                                                 \n",
      " dense_42 (Dense)            (None, 16)                528       \n",
      "                                                                 \n",
      " dense_43 (Dense)            (None, 16)                272       \n",
      "                                                                 \n",
      " flatten_8 (Flatten)         (None, 16)                0         \n",
      "                                                                 \n",
      " dense_44 (Dense)            (None, 30)                510       \n",
      "                                                                 \n",
      " dense_45 (Dense)            (None, 10)                310       \n",
      "                                                                 \n",
      " dense_46 (Dense)            (None, 5)                 55        \n",
      "                                                                 \n",
      "=================================================================\n",
      "Total params: 9,642,827\n",
      "Trainable params: 9,642,827\n",
      "Non-trainable params: 0\n",
      "_________________________________________________________________\n"
     ]
    }
   ],
   "source": [
    "model.summary()"
   ]
  },
  {
   "cell_type": "code",
   "execution_count": 29,
   "metadata": {},
   "outputs": [],
   "source": [
    "cnn_model = Sequential([\n",
    "    Input(shape = (224, 224, 3)),\n",
    "    Conv2D(64, kernel_size = (11, 11), padding = \"same\", activation = \"relu\"),\n",
    "    Conv2D(64, kernel_size = (9, 9), padding = \"same\", activation = \"relu\"),\n",
    "    MaxPool2D(),\n",
    "    BatchNormalization(),\n",
    "    Conv2D(32, kernel_size = (7, 7), padding = \"same\", activation = \"relu\"),\n",
    "    Conv2D(32, kernel_size = (7, 7), padding = \"same\", activation = \"relu\"),\n",
    "    MaxPool2D(),\n",
    "    BatchNormalization(),\n",
    "    Conv2D(16, kernel_size = (5, 5), padding = \"same\", activation = \"relu\"),\n",
    "    Conv2D(16, kernel_size = (3, 3), padding = \"same\", activation = \"relu\"),\n",
    "    MaxPool2D(),\n",
    "    \n",
    "    Flatten(),\n",
    "    BatchNormalization(),\n",
    "    \n",
    "    Dense(30, activation = \"relu\"),\n",
    "    Dropout(0.1),\n",
    "    Dense(10, activation = \"relu\"),\n",
    "    Dropout(0.05),\n",
    "    Dense(5, activation = \"softmax\")\n",
    "])"
   ]
  },
  {
   "cell_type": "code",
   "execution_count": 30,
   "metadata": {},
   "outputs": [
    {
     "name": "stdout",
     "output_type": "stream",
     "text": [
      "Model: \"sequential_9\"\n",
      "_________________________________________________________________\n",
      " Layer (type)                Output Shape              Param #   \n",
      "=================================================================\n",
      " conv2d_24 (Conv2D)          (None, 224, 224, 64)      23296     \n",
      "                                                                 \n",
      " conv2d_25 (Conv2D)          (None, 224, 224, 64)      331840    \n",
      "                                                                 \n",
      " max_pooling2d_7 (MaxPooling  (None, 112, 112, 64)     0         \n",
      " 2D)                                                             \n",
      "                                                                 \n",
      " conv2d_26 (Conv2D)          (None, 112, 112, 32)      100384    \n",
      "                                                                 \n",
      " conv2d_27 (Conv2D)          (None, 112, 112, 32)      50208     \n",
      "                                                                 \n",
      " max_pooling2d_8 (MaxPooling  (None, 56, 56, 32)       0         \n",
      " 2D)                                                             \n",
      "                                                                 \n",
      " conv2d_28 (Conv2D)          (None, 56, 56, 16)        12816     \n",
      "                                                                 \n",
      " conv2d_29 (Conv2D)          (None, 56, 56, 16)        2320      \n",
      "                                                                 \n",
      " max_pooling2d_9 (MaxPooling  (None, 28, 28, 16)       0         \n",
      " 2D)                                                             \n",
      "                                                                 \n",
      " flatten_11 (Flatten)        (None, 12544)             0         \n",
      "                                                                 \n",
      " dense_53 (Dense)            (None, 30)                376350    \n",
      "                                                                 \n",
      " dense_54 (Dense)            (None, 10)                310       \n",
      "                                                                 \n",
      " dense_55 (Dense)            (None, 5)                 55        \n",
      "                                                                 \n",
      "=================================================================\n",
      "Total params: 897,579\n",
      "Trainable params: 897,579\n",
      "Non-trainable params: 0\n",
      "_________________________________________________________________\n"
     ]
    }
   ],
   "source": [
    "cnn_model.summary()"
   ]
  },
  {
   "cell_type": "code",
   "execution_count": 33,
   "metadata": {},
   "outputs": [],
   "source": [
    "(attributes_train, labels_train), (attributes_test, labels_test) = mnist.load_data()"
   ]
  },
  {
   "cell_type": "code",
   "execution_count": 34,
   "metadata": {},
   "outputs": [
    {
     "data": {
      "text/plain": [
       "(10000, 28, 28)"
      ]
     },
     "execution_count": 34,
     "metadata": {},
     "output_type": "execute_result"
    }
   ],
   "source": [
    "attributes_test.shape"
   ]
  },
  {
   "cell_type": "code",
   "execution_count": 45,
   "metadata": {},
   "outputs": [],
   "source": [
    "attributes_train_expanded = np.expand_dims(attributes_train, 3)"
   ]
  },
  {
   "cell_type": "code",
   "execution_count": 46,
   "metadata": {},
   "outputs": [],
   "source": [
    "attributes_train_expanded = attributes_train_expanded / 255.0"
   ]
  },
  {
   "cell_type": "code",
   "execution_count": 42,
   "metadata": {},
   "outputs": [],
   "source": [
    "cnn = Sequential([\n",
    "    Input(shape = (28, 28, 1)),\n",
    "    Conv2D(64, (3, 3), padding = \"same\", activation = \"relu\"),\n",
    "    Conv2D(32, (3, 3), padding = \"same\", activation = \"relu\"),\n",
    "    MaxPool2D(),\n",
    "    Conv2D(32, (3, 3), padding = \"same\", activation = \"relu\"),\n",
    "    Conv2D(16, (3, 3), padding = \"same\", activation = \"relu\"),\n",
    "    MaxPool2D(),\n",
    "    Flatten(),\n",
    "    \n",
    "    Dense(64, activation = \"relu\"),\n",
    "    Dropout(0.05),\n",
    "    Dense(10, activation = \"softmax\")    \n",
    "])"
   ]
  },
  {
   "cell_type": "code",
   "execution_count": 43,
   "metadata": {},
   "outputs": [
    {
     "name": "stdout",
     "output_type": "stream",
     "text": [
      "Model: \"sequential\"\n",
      "_________________________________________________________________\n",
      " Layer (type)                Output Shape              Param #   \n",
      "=================================================================\n",
      " conv2d (Conv2D)             (None, 28, 28, 64)        640       \n",
      "                                                                 \n",
      " conv2d_1 (Conv2D)           (None, 28, 28, 32)        18464     \n",
      "                                                                 \n",
      " max_pooling2d (MaxPooling2D  (None, 14, 14, 32)       0         \n",
      " )                                                               \n",
      "                                                                 \n",
      " conv2d_2 (Conv2D)           (None, 14, 14, 32)        9248      \n",
      "                                                                 \n",
      " conv2d_3 (Conv2D)           (None, 14, 14, 16)        4624      \n",
      "                                                                 \n",
      " max_pooling2d_1 (MaxPooling  (None, 7, 7, 16)         0         \n",
      " 2D)                                                             \n",
      "                                                                 \n",
      " flatten (Flatten)           (None, 784)               0         \n",
      "                                                                 \n",
      " dense (Dense)               (None, 64)                50240     \n",
      "                                                                 \n",
      " dropout (Dropout)           (None, 64)                0         \n",
      "                                                                 \n",
      " dense_1 (Dense)             (None, 10)                650       \n",
      "                                                                 \n",
      "=================================================================\n",
      "Total params: 83,866\n",
      "Trainable params: 83,866\n",
      "Non-trainable params: 0\n",
      "_________________________________________________________________\n"
     ]
    }
   ],
   "source": [
    "cnn.summary()"
   ]
  },
  {
   "cell_type": "code",
   "execution_count": 44,
   "metadata": {},
   "outputs": [
    {
     "data": {
      "text/plain": [
       "(28, 28, 1)"
      ]
     },
     "execution_count": 44,
     "metadata": {},
     "output_type": "execute_result"
    }
   ],
   "source": [
    "np.expand_dims(attributes_train[0], 2).shape"
   ]
  },
  {
   "cell_type": "code",
   "execution_count": 49,
   "metadata": {},
   "outputs": [],
   "source": [
    "cnn.compile(loss = \"sparse_categorical_crossentropy\", optimizer = \"adam\", metrics = [\"accuracy\"])"
   ]
  },
  {
   "cell_type": "code",
   "execution_count": 50,
   "metadata": {},
   "outputs": [
    {
     "name": "stdout",
     "output_type": "stream",
     "text": [
      "1875/1875 [==============================] - 129s 69ms/step - loss: 0.0509 - accuracy: 0.9843\n"
     ]
    },
    {
     "data": {
      "text/plain": [
       "<keras.callbacks.History at 0x262043592b0>"
      ]
     },
     "execution_count": 50,
     "metadata": {},
     "output_type": "execute_result"
    }
   ],
   "source": [
    "cnn.fit(attributes_train_expanded, labels_train)"
   ]
  },
  {
   "cell_type": "code",
   "execution_count": 51,
   "metadata": {},
   "outputs": [
    {
     "data": {
      "text/plain": [
       "(TensorShape([None, 28, 28, 1]), TensorShape([None, 28, 28, 64]))"
      ]
     },
     "execution_count": 51,
     "metadata": {},
     "output_type": "execute_result"
    }
   ],
   "source": [
    "cnn.layers[0].input.shape, cnn.layers[0].output.shape"
   ]
  },
  {
   "cell_type": "code",
   "execution_count": 52,
   "metadata": {},
   "outputs": [
    {
     "data": {
      "text/plain": [
       "<tf.Variable 'conv2d/kernel:0' shape=(3, 3, 1, 64) dtype=float32, numpy=\n",
       "array([[[[-5.15924282e-02,  4.39241976e-02, -1.15329832e-01,\n",
       "           1.26779735e-01, -1.68030206e-02,  1.38955161e-01,\n",
       "          -1.79164279e-02, -2.85676084e-02, -4.91494872e-02,\n",
       "           6.84946999e-02, -8.00504833e-02,  9.22680572e-02,\n",
       "          -1.84896234e-02,  1.86073005e-01, -4.75229695e-02,\n",
       "          -1.15999274e-01,  1.33262321e-01, -1.14595912e-01,\n",
       "           8.66935309e-03,  2.09631965e-01,  3.44970264e-02,\n",
       "          -1.00776814e-01,  1.69852912e-01,  6.30989447e-02,\n",
       "           1.34573262e-02,  1.17195994e-02,  3.22692432e-02,\n",
       "          -7.16355741e-02,  4.60060760e-02,  3.93818282e-02,\n",
       "          -2.16426387e-01,  9.09835175e-02, -1.35272145e-01,\n",
       "          -2.96723330e-03, -2.03226246e-02,  6.75737038e-02,\n",
       "           9.99639742e-03, -1.99949089e-02,  3.07692867e-03,\n",
       "          -1.24705262e-01, -9.28175747e-02, -8.06296393e-02,\n",
       "          -3.02026011e-02, -2.86593083e-02,  4.09387201e-02,\n",
       "          -6.82255030e-02, -5.54097034e-02,  1.40936762e-01,\n",
       "          -7.08871037e-02,  8.43392238e-02,  1.05525717e-01,\n",
       "           1.76326469e-01,  1.60678793e-02,  1.74362306e-02,\n",
       "          -9.28313285e-03,  7.48106837e-02, -8.78383685e-03,\n",
       "           8.33078697e-02,  3.26718614e-02,  6.99768439e-02,\n",
       "          -8.57327133e-02, -6.16814457e-02, -3.69941853e-02,\n",
       "           1.18209794e-01]],\n",
       "\n",
       "        [[ 7.40914047e-02,  4.59633991e-02,  2.93003246e-02,\n",
       "           1.58238173e-01, -1.11044655e-02,  9.99282077e-02,\n",
       "           8.18781778e-02, -1.63614392e-01, -7.92829096e-02,\n",
       "          -8.68740026e-04, -1.66447818e-01, -1.02570049e-01,\n",
       "           8.36639032e-02, -6.19165786e-03, -2.04343468e-01,\n",
       "          -5.24460413e-02, -4.04518694e-02, -8.09879228e-02,\n",
       "           1.23089552e-01,  1.38185043e-02, -3.74850743e-02,\n",
       "          -4.86510247e-02,  1.14198819e-01,  1.10100828e-01,\n",
       "          -3.82915065e-02,  1.47428945e-01, -5.61113190e-03,\n",
       "          -3.92236933e-02,  9.41190571e-02,  5.60297258e-02,\n",
       "          -1.40899971e-01,  4.17482518e-02,  2.73234975e-02,\n",
       "           5.69909997e-02, -1.02219395e-01,  1.63473278e-01,\n",
       "           2.18934398e-02, -8.33162591e-02,  8.13337564e-02,\n",
       "          -1.59376293e-01,  1.97510440e-02, -1.24725088e-01,\n",
       "           7.01601133e-02, -3.49674262e-02,  1.56919230e-02,\n",
       "           6.16485141e-02,  6.98999763e-02,  2.00976506e-02,\n",
       "          -5.18909544e-02,  1.16380751e-01,  6.90625906e-02,\n",
       "          -7.38383606e-02, -1.06401891e-01,  1.04686193e-01,\n",
       "          -6.47083223e-02,  1.18644007e-01, -2.20899850e-01,\n",
       "          -3.11475564e-02, -1.73871573e-02, -4.36800011e-02,\n",
       "           1.96032692e-02, -1.85783654e-01,  1.70687288e-01,\n",
       "           1.96313038e-02]],\n",
       "\n",
       "        [[-3.05612646e-02,  1.80064693e-01,  3.94494981e-02,\n",
       "           3.54956277e-02, -7.05515146e-02, -4.76571694e-02,\n",
       "          -1.59298494e-01, -8.98285210e-02, -5.44284545e-02,\n",
       "           4.61337343e-02, -1.18230760e-01, -1.36170909e-01,\n",
       "           1.84762776e-01,  7.05556124e-02,  1.65405404e-02,\n",
       "          -5.51593006e-02, -1.42756864e-01,  7.10480809e-02,\n",
       "           1.88871413e-01, -1.41922310e-01, -7.80800283e-02,\n",
       "          -4.15925309e-02,  9.66789201e-02, -5.07034734e-02,\n",
       "          -6.12823060e-03,  1.57390520e-01,  1.05202019e-01,\n",
       "          -2.99049802e-02,  9.88624766e-02, -1.12139955e-01,\n",
       "          -1.77476808e-01,  7.89314210e-02, -9.93641373e-03,\n",
       "          -1.77534133e-01, -9.47560519e-02,  1.56497046e-01,\n",
       "           1.54576242e-01,  9.07114241e-03, -4.79482412e-02,\n",
       "          -1.07393935e-01, -3.91803458e-02, -3.00104846e-03,\n",
       "           9.18556750e-02, -7.89822862e-02,  5.42258248e-02,\n",
       "          -6.75828382e-02,  1.07293457e-01,  3.70121710e-02,\n",
       "          -4.64900509e-02, -1.00218929e-01,  2.23231278e-02,\n",
       "          -2.27494478e-01, -4.61441055e-02,  4.46437299e-02,\n",
       "          -2.45289505e-02, -5.30012511e-02, -1.07335746e-01,\n",
       "          -2.72894241e-02, -2.82177683e-02,  1.58851415e-01,\n",
       "           2.71746684e-02, -1.05826586e-01,  1.70669228e-01,\n",
       "           2.15231683e-02]]],\n",
       "\n",
       "\n",
       "       [[[-1.19193107e-01, -9.94337350e-02, -8.80446434e-02,\n",
       "           6.92996681e-02,  1.03989646e-01,  1.22985877e-01,\n",
       "           7.62438104e-02, -2.04653621e-01,  8.71062055e-02,\n",
       "          -3.01514734e-02, -6.61031231e-02,  1.80945501e-01,\n",
       "           7.89893717e-02,  1.35035932e-01, -8.81822929e-02,\n",
       "           4.18095551e-02,  5.28055355e-02, -6.31613061e-02,\n",
       "          -1.54184222e-01,  9.87376571e-02, -7.66510069e-02,\n",
       "           3.63456756e-02,  2.18637399e-02,  9.04722959e-02,\n",
       "           1.44891277e-01, -1.56598017e-01,  1.31517649e-02,\n",
       "           4.45061997e-02,  5.22213206e-02, -2.03090645e-02,\n",
       "          -8.79639536e-02, -5.99822700e-02, -6.45596534e-02,\n",
       "          -6.56045601e-02, -2.99662184e-02, -1.48330424e-02,\n",
       "          -2.34818339e-01,  1.06478445e-02,  1.01466343e-01,\n",
       "           1.09917343e-01,  1.21170543e-01, -1.00024611e-01,\n",
       "          -5.93761429e-02, -8.27851743e-02, -7.92075396e-02,\n",
       "           1.77240252e-01, -7.29174390e-02, -5.94830588e-02,\n",
       "          -7.95653760e-02,  6.30242378e-02, -6.21230388e-03,\n",
       "           1.00869246e-01, -7.86135718e-03,  1.34116217e-01,\n",
       "          -3.28437015e-02,  4.60870825e-02,  3.91870998e-02,\n",
       "          -8.92141014e-02,  6.77461252e-02, -1.11796953e-01,\n",
       "          -1.86759699e-02,  7.82429650e-02, -9.87799242e-02,\n",
       "          -7.00403675e-02]],\n",
       "\n",
       "        [[ 5.02890237e-02, -4.36401889e-02,  6.66990802e-02,\n",
       "           8.66617635e-02,  1.35110289e-01,  7.97100067e-02,\n",
       "           9.63329375e-02, -3.82606126e-02,  8.03282950e-03,\n",
       "           1.43894508e-01, -9.62559134e-03,  8.96689147e-02,\n",
       "          -2.16653328e-02, -1.08462431e-01,  3.27292047e-02,\n",
       "           1.19634166e-01, -1.12114437e-01,  1.59345731e-01,\n",
       "           8.07313249e-03, -1.25846967e-01,  6.07918315e-02,\n",
       "           5.63045591e-02, -4.15246338e-02,  1.19041100e-01,\n",
       "          -1.09482063e-02, -1.03714928e-01,  1.42127145e-02,\n",
       "           1.15979165e-01, -3.68670262e-02,  1.21614739e-01,\n",
       "           1.18821569e-01, -7.83891529e-02,  1.08415149e-01,\n",
       "          -2.09089443e-01, -1.37059227e-01, -4.89444006e-03,\n",
       "          -9.67250913e-02, -1.90176051e-02,  5.37634455e-02,\n",
       "          -7.49908015e-02,  1.02281354e-01, -1.23668298e-01,\n",
       "          -9.74337384e-02,  2.81803850e-02,  5.60545847e-02,\n",
       "          -5.57581335e-02, -1.73159782e-02,  7.26189613e-02,\n",
       "           7.07528507e-03, -5.18079139e-02,  1.09072946e-01,\n",
       "          -3.52085270e-02, -1.59147643e-02,  6.30650669e-02,\n",
       "          -5.41089587e-02,  2.34107357e-02, -4.71939668e-02,\n",
       "          -2.23949514e-02, -2.13964898e-02, -2.52046794e-01,\n",
       "           7.90658593e-02,  1.03291318e-01, -5.95495328e-02,\n",
       "          -4.00650054e-02]],\n",
       "\n",
       "        [[-1.25869915e-01,  3.07133384e-02,  4.54286896e-02,\n",
       "          -5.39546087e-02, -1.75177809e-02,  2.45879851e-02,\n",
       "          -9.32483971e-02,  7.85299949e-03,  7.71036819e-02,\n",
       "           1.45093305e-02,  4.63252328e-02, -1.29203886e-01,\n",
       "          -4.25012261e-02, -1.00476034e-01, -6.70586675e-02,\n",
       "           1.20588690e-01, -1.09468140e-01,  4.02640849e-02,\n",
       "           1.57764047e-01, -9.37153995e-02, -6.75533265e-02,\n",
       "           1.24904096e-01, -2.39623804e-02, -2.88212299e-02,\n",
       "          -1.40103027e-01,  1.06511954e-02,  1.17181160e-01,\n",
       "           6.89313933e-02,  8.57347623e-02,  5.25920391e-02,\n",
       "          -8.58478472e-02,  7.03899860e-02,  6.58520460e-02,\n",
       "          -3.29586789e-02,  3.50521728e-02,  2.39234567e-02,\n",
       "          -6.31479472e-02,  1.30423024e-01,  4.95143533e-02,\n",
       "           8.56751204e-02, -1.46797955e-01,  9.20113027e-02,\n",
       "           9.13043320e-02, -3.74251716e-02, -1.19010039e-01,\n",
       "          -1.72380194e-01,  1.67459413e-01,  6.74727708e-02,\n",
       "           1.53582618e-01, -1.31011367e-01,  4.66704518e-02,\n",
       "          -1.55023634e-01,  8.67303908e-02,  4.98545878e-02,\n",
       "          -9.52089503e-02, -8.26501772e-02, -6.89094812e-02,\n",
       "           7.22602382e-02, -1.80326853e-04, -9.28892940e-02,\n",
       "           9.98910442e-02,  4.14733440e-02,  9.13778991e-02,\n",
       "          -3.50414589e-02]]],\n",
       "\n",
       "\n",
       "       [[[ 2.36159097e-02, -1.56694323e-01,  3.85290235e-02,\n",
       "          -1.34207949e-01,  7.23317266e-02, -1.86813533e-01,\n",
       "           1.30187526e-01, -1.60760090e-01, -9.22503546e-02,\n",
       "           5.07299006e-02,  1.59856126e-01,  3.22150439e-03,\n",
       "          -6.72674552e-02, -8.41671042e-03,  1.30868360e-01,\n",
       "          -1.22861758e-01,  1.84352815e-01,  1.91059727e-02,\n",
       "          -1.27362356e-01, -5.12890518e-03,  1.29894063e-01,\n",
       "           2.51347595e-03,  1.43549778e-02, -1.28159449e-01,\n",
       "           1.79221168e-01, -4.35903817e-02, -8.36967677e-02,\n",
       "           5.15542924e-02, -1.93885475e-01, -1.58741340e-01,\n",
       "          -3.69735025e-02, -7.26315007e-02,  3.07228733e-02,\n",
       "          -2.23638698e-01,  1.53750762e-01, -1.56969026e-01,\n",
       "           5.40933721e-02, -4.15799618e-02,  5.92852011e-03,\n",
       "           5.58779128e-02,  1.36917114e-01,  1.23807155e-01,\n",
       "          -1.05499670e-01, -2.02689804e-02, -3.90635654e-02,\n",
       "           1.49310604e-01, -1.30366966e-01, -2.01203644e-01,\n",
       "          -2.57403068e-02,  2.99226027e-02, -1.76918179e-01,\n",
       "           1.53974906e-01,  9.43799561e-04, -3.29132937e-02,\n",
       "          -9.88083333e-02, -1.32856056e-01,  1.65569365e-01,\n",
       "          -1.95066910e-02,  6.45106882e-02,  1.22210868e-01,\n",
       "           1.09053282e-02,  5.13322279e-02, -1.13101766e-01,\n",
       "           3.21981311e-02]],\n",
       "\n",
       "        [[ 6.45313561e-02, -2.27709174e-01, -6.31238222e-02,\n",
       "          -1.06727690e-01,  3.42765152e-02, -1.49562567e-01,\n",
       "           8.00162330e-02,  6.90476745e-02, -1.18600177e-02,\n",
       "           6.39938787e-02,  9.58699360e-02,  5.45304967e-03,\n",
       "          -1.78703055e-01, -6.70695901e-02,  2.55712178e-02,\n",
       "          -2.98681278e-02,  2.09774356e-02,  8.53142962e-02,\n",
       "           7.88745508e-02, -1.93850800e-01,  1.55841827e-01,\n",
       "           1.14312179e-01, -1.90309346e-01, -4.23211716e-02,\n",
       "           9.38711241e-02, -2.32660726e-01, -5.51497377e-02,\n",
       "           5.21024242e-02, -1.80662245e-01,  5.43765239e-02,\n",
       "           6.10287935e-02,  5.01689203e-02,  5.13748117e-02,\n",
       "          -2.90850233e-02,  9.16444957e-02, -1.09110892e-01,\n",
       "          -1.67190135e-01,  7.55217969e-02,  6.65142983e-02,\n",
       "          -1.55127496e-02,  8.55198726e-02,  4.85709310e-02,\n",
       "          -5.09741753e-02,  1.41006997e-02, -7.02708215e-03,\n",
       "           5.63558303e-02, -2.05523819e-02, -1.33505002e-01,\n",
       "           1.47026226e-01,  1.27910271e-01, -3.93685065e-02,\n",
       "           2.61090491e-02, -7.80144781e-02, -1.28577635e-01,\n",
       "           5.49036020e-04,  6.00952692e-02,  7.04228655e-02,\n",
       "           5.93207814e-02,  6.58502057e-02,  8.19627494e-02,\n",
       "          -4.21970375e-02,  3.81141119e-02, -8.95304531e-02,\n",
       "          -8.44580457e-02]],\n",
       "\n",
       "        [[ 7.01786801e-02, -1.80672631e-01,  5.34021966e-02,\n",
       "          -1.74868166e-01, -9.34887454e-02, -3.03246155e-02,\n",
       "          -3.67412567e-02,  8.84354636e-02, -1.46329338e-02,\n",
       "          -6.70483559e-02,  5.01675457e-02,  1.11791335e-01,\n",
       "           3.47660072e-02, -1.87101036e-01,  1.63509861e-01,\n",
       "           1.48532614e-01, -6.00365410e-03, -2.04776555e-01,\n",
       "          -5.72459884e-02,  4.76777088e-03,  5.70699945e-02,\n",
       "          -1.03576668e-02, -2.01596484e-01,  5.56281116e-03,\n",
       "          -2.64351964e-02, -9.50907171e-02, -5.01278788e-02,\n",
       "           8.56461674e-02,  2.95164846e-02, -3.65700610e-02,\n",
       "          -7.27595165e-02, -8.87361169e-03, -3.79467681e-02,\n",
       "           1.34306625e-01,  3.10591813e-02, -1.24156490e-01,\n",
       "          -1.89175382e-01,  1.18251987e-01, -3.61715257e-03,\n",
       "           1.11022703e-01, -6.91644847e-03,  9.42626297e-02,\n",
       "           1.27658853e-02,  8.11362118e-02,  4.19302061e-02,\n",
       "          -4.28528674e-02,  8.08910728e-02,  1.54173553e-01,\n",
       "           1.84228629e-01, -6.05547987e-02,  6.32299995e-03,\n",
       "           1.32021666e-01, -7.54408818e-03, -1.38620794e-01,\n",
       "          -7.57450014e-02,  1.03421686e-02,  1.07073717e-01,\n",
       "           1.61123052e-01,  9.58803594e-02, -7.92947635e-02,\n",
       "           3.62493545e-02, -5.65715134e-03,  5.79095744e-02,\n",
       "           1.49048343e-01]]]], dtype=float32)>"
      ]
     },
     "execution_count": 52,
     "metadata": {},
     "output_type": "execute_result"
    }
   ],
   "source": [
    "cnn.layers[0].weights[0]"
   ]
  },
  {
   "cell_type": "code",
   "execution_count": 55,
   "metadata": {},
   "outputs": [
    {
     "data": {
      "text/plain": [
       "TensorShape([3, 3, 1, 64])"
      ]
     },
     "execution_count": 55,
     "metadata": {},
     "output_type": "execute_result"
    }
   ],
   "source": [
    "cnn.layers[0].kernel.shape"
   ]
  },
  {
   "cell_type": "code",
   "execution_count": null,
   "metadata": {},
   "outputs": [],
   "source": [
    "# 3, 3, 1, 64: filter 3, 3 chanel 1, filters 64"
   ]
  },
  {
   "cell_type": "code",
   "execution_count": 56,
   "metadata": {},
   "outputs": [
    {
     "data": {
      "text/plain": [
       "<tf.Tensor: shape=(3, 3, 1), dtype=float32, numpy=\n",
       "array([[[-0.05159243],\n",
       "        [ 0.0740914 ],\n",
       "        [-0.03056126]],\n",
       "\n",
       "       [[-0.11919311],\n",
       "        [ 0.05028902],\n",
       "        [-0.12586991]],\n",
       "\n",
       "       [[ 0.02361591],\n",
       "        [ 0.06453136],\n",
       "        [ 0.07017868]]], dtype=float32)>"
      ]
     },
     "execution_count": 56,
     "metadata": {},
     "output_type": "execute_result"
    }
   ],
   "source": [
    "# all values of filter 1\n",
    "cnn.layers[0].kernel[:, :, :, 0]"
   ]
  },
  {
   "cell_type": "code",
   "execution_count": 61,
   "metadata": {},
   "outputs": [
    {
     "data": {
      "text/plain": [
       "array([[-0.05159243,  0.0740914 , -0.03056126],\n",
       "       [-0.11919311,  0.05028902, -0.12586991],\n",
       "       [ 0.02361591,  0.06453136,  0.07017868]], dtype=float32)"
      ]
     },
     "execution_count": 61,
     "metadata": {},
     "output_type": "execute_result"
    }
   ],
   "source": [
    "tf.squeeze(cnn.layers[0].kernel[:, :, :, 0]).numpy()"
   ]
  },
  {
   "cell_type": "code",
   "execution_count": 63,
   "metadata": {},
   "outputs": [
    {
     "data": {
      "image/png": "[encoded data removed]",
      "text/plain": [
       "<Figure size 432x288 with 1 Axes>"
      ]
     },
     "metadata": {
      "needs_background": "light"
     },
     "output_type": "display_data"
    },
    {
     "data": {
      "image/png": "[encoded data removed]",
      "text/plain": [
       "<Figure size 432x288 with 1 Axes>"
      ]
     },
     "metadata": {
      "needs_background": "light"
     },
     "output_type": "display_data"
    },
    {
     "data": {
      "image/png": "[encoded data removed]",
      "text/plain": [
       "<Figure size 432x288 with 1 Axes>"
      ]
     },
     "metadata": {
      "needs_background": "light"
     },
     "output_type": "display_data"
    },
    {
     "data": {
      "image/png": "[encoded data removed]",
      "text/plain": [
       "<Figure size 432x288 with 1 Axes>"
      ]
     },
     "metadata": {
      "needs_background": "light"
     },
     "output_type": "display_data"
    },
    {
     "data": {
      "image/png": "[encoded data removed]",
      "text/plain": [
       "<Figure size 432x288 with 1 Axes>"
      ]
     },
     "metadata": {
      "needs_background": "light"
     },
     "output_type": "display_data"
    },
    {
     "data": {
      "image/png": "[encoded data removed]",
      "text/plain": [
       "<Figure size 432x288 with 1 Axes>"
      ]
     },
     "metadata": {
      "needs_background": "light"
     },
     "output_type": "display_data"
    },
    {
     "data": {
      "image/png": "[encoded data removed]",
      "text/plain": [
       "<Figure size 432x288 with 1 Axes>"
      ]
     },
     "metadata": {
      "needs_background": "light"
     },
     "output_type": "display_data"
    },
    {
     "data": {
      "image/png": "[encoded data removed]",
      "text/plain": [
       "<Figure size 432x288 with 1 Axes>"
      ]
     },
     "metadata": {
      "needs_background": "light"
     },
     "output_type": "display_data"
    },
    {
     "data": {
      "image/png": "[encoded data removed]",
      "text/plain": [
       "<Figure size 432x288 with 1 Axes>"
      ]
     },
     "metadata": {
      "needs_background": "light"
     },
     "output_type": "display_data"
    },
    {
     "data": {
      "image/png": "[encoded data removed]",
      "text/plain": [
       "<Figure size 432x288 with 1 Axes>"
      ]
     },
     "metadata": {
      "needs_background": "light"
     },
     "output_type": "display_data"
    }
   ],
   "source": [
    "for i in range(10):\n",
    "    filter_contents = tf.squeeze(cnn.layers[0].kernel[:, :, :, 0]).numpy()\n",
    "    plt.imshow(filter_contents, cmap = \"gray\")\n",
    "    plt.show()"
   ]
  },
  {
   "cell_type": "markdown",
   "metadata": {},
   "source": [
    "## Working with Data"
   ]
  },
  {
   "cell_type": "code",
   "execution_count": null,
   "metadata": {},
   "outputs": [],
   "source": [
    "cats_dir = os.path.abspath(\"./\")\n",
    "dogs_dir = os.path.abspath(\"./\")\n",
    "\n",
    "image_size = (200, 200)"
   ]
  },
  {
   "cell_type": "code",
   "execution_count": null,
   "metadata": {},
   "outputs": [],
   "source": [
    "cat_filenames = [os.path.join(cats_dir, file) for file in os.listdir(cats_dir)]\n",
    "dog_filenames = [os.path.join(dogs_dir, file) for file in os.listdir(dogs_dir)]"
   ]
  },
  {
   "cell_type": "code",
   "execution_count": null,
   "metadata": {},
   "outputs": [],
   "source": [
    "all_filenames = np.array(cat_filenames + dog_filenames)"
   ]
  },
  {
   "cell_type": "code",
   "execution_count": null,
   "metadata": {},
   "outputs": [],
   "source": [
    "np.random.shuffle(all_filenames)"
   ]
  },
  {
   "cell_type": "code",
   "execution_count": null,
   "metadata": {},
   "outputs": [],
   "source": [
    "def read_image(filename):\n",
    "    print(filename)\n",
    "    file_contents = tf.io.read_file(filename)\n",
    "    image = tf.io.decode_jpeg(file_contents)\n",
    "    label = (\"cat\" in os.path.basename(cat_filenames[0])) + 0\n",
    "    return tf.image.resize(image, image_size)"
   ]
  },
  {
   "cell_type": "code",
   "execution_count": null,
   "metadata": {},
   "outputs": [],
   "source": [
    "dataset = tf.data.Dataset.from_tensor_slices(all_filenames)"
   ]
  },
  {
   "cell_type": "code",
   "execution_count": null,
   "metadata": {},
   "outputs": [],
   "source": [
    "dataset = dataset.batch(32).prefetch()"
   ]
  },
  {
   "cell_type": "code",
   "execution_count": null,
   "metadata": {},
   "outputs": [],
   "source": [
    "cnn.fit(dataset, labels)"
   ]
  },
  {
   "cell_type": "code",
   "execution_count": null,
   "metadata": {},
   "outputs": [],
   "source": [
    "dataset = dataset.map(read_image)"
   ]
  }
 ],
 "metadata": {
  "kernelspec": {
   "display_name": "Python 3",
   "language": "python",
   "name": "python3"
  },
  "language_info": {
   "codemirror_mode": {
    "name": "ipython",
    "version": 3
   },
   "file_extension": ".py",
   "mimetype": "text/x-python",
   "name": "python",
   "nbconvert_exporter": "python",
   "pygments_lexer": "ipython3",
   "version": "3.8.5"
  }
 },
 "nbformat": 4,
 "nbformat_minor": 4
}
