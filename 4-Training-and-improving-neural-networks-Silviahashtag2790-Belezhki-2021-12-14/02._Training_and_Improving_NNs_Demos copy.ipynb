{
 "cells": [
  {
   "cell_type": "code",
   "execution_count": 1,
   "metadata": {},
   "outputs": [],
   "source": [
    "%matplotlib inline"
   ]
  },
  {
   "cell_type": "code",
   "execution_count": 56,
   "metadata": {},
   "outputs": [],
   "source": [
    "import numpy as np\n",
    "import pandas as pd\n",
    "import matplotlib.pyplot as plt\n",
    "\n",
    "import tensorflow as tf\n",
    "\n",
    "from tensorflow.keras.datasets import fashion_mnist\n",
    "\n",
    "from tensorflow.keras.models import Sequential, Model\n",
    "\n",
    "from tensorflow.keras.layers import Input, Flatten, Dense, Dropout, BatchNormalization\n",
    "from tensorflow.keras.optimizers import Adam\n",
    "from tensorflow.keras.callbacks import TensorBoard"
   ]
  },
  {
   "cell_type": "code",
   "execution_count": 5,
   "metadata": {},
   "outputs": [],
   "source": [
    "(attributes_train, labels_train), (attributes_test, labels_test) = fashion_mnist.load_data()"
   ]
  },
  {
   "cell_type": "code",
   "execution_count": 7,
   "metadata": {},
   "outputs": [
    {
     "data": {
      "image/png": "[encoded data removed]",
      "text/plain": [
       "<Figure size 432x288 with 1 Axes>"
      ]
     },
     "metadata": {
      "needs_background": "light"
     },
     "output_type": "display_data"
    }
   ],
   "source": [
    "plt.imshow(attributes_train[0], cmap = \"gray\")\n",
    "plt.title(labels_train[0])\n",
    "plt.show()"
   ]
  },
  {
   "cell_type": "code",
   "execution_count": 8,
   "metadata": {},
   "outputs": [],
   "source": [
    "attributes_train = attributes_train / 255.0\n",
    "attributes_test = attributes_test / 255.0"
   ]
  },
  {
   "cell_type": "code",
   "execution_count": 15,
   "metadata": {},
   "outputs": [],
   "source": [
    "input_shape = attributes_train[0].shape"
   ]
  },
  {
   "cell_type": "code",
   "execution_count": 9,
   "metadata": {},
   "outputs": [
    {
     "data": {
      "text/plain": [
       "{0, 1, 2, 3, 4, 5, 6, 7, 8, 9}"
      ]
     },
     "execution_count": 9,
     "metadata": {},
     "output_type": "execute_result"
    }
   ],
   "source": [
    "set(labels_train)"
   ]
  },
  {
   "cell_type": "code",
   "execution_count": 14,
   "metadata": {},
   "outputs": [],
   "source": [
    "num_labels = len(set(labels_train))"
   ]
  },
  {
   "cell_type": "code",
   "execution_count": 29,
   "metadata": {},
   "outputs": [
    {
     "data": {
      "text/plain": [
       "[PhysicalDevice(name='/physical_device:CPU:0', device_type='CPU')]"
      ]
     },
     "execution_count": 29,
     "metadata": {},
     "output_type": "execute_result"
    }
   ],
   "source": [
    "tf.config.list_physical_devices()"
   ]
  },
  {
   "cell_type": "code",
   "execution_count": 50,
   "metadata": {},
   "outputs": [],
   "source": [
    "tf.keras.backend.clear_session()"
   ]
  },
  {
   "cell_type": "code",
   "execution_count": 71,
   "metadata": {},
   "outputs": [],
   "source": [
    "model = Sequential([\n",
    "    Input(shape = input_shape),\n",
    "    Flatten(),\n",
    "    Dense(units = 128, activation = tf.keras.activations.relu),\n",
    "    Dropout(0.25),\n",
    "    Dense(units = 64, activation = \"relu\"),\n",
    "    Dropout(0.1),\n",
    "    Dense(units = 64, activation = \"relu\"),\n",
    "    Dropout(0.1),\n",
    "    BatchNormalization(),\n",
    "    Dense(units = 32, activation = \"relu\"),\n",
    "    Dense(units = 10, activation = \"softmax\")    \n",
    "])"
   ]
  },
  {
   "cell_type": "code",
   "execution_count": 52,
   "metadata": {},
   "outputs": [
    {
     "name": "stdout",
     "output_type": "stream",
     "text": [
      "Model: \"sequential\"\n",
      "_________________________________________________________________\n",
      "Layer (type)                 Output Shape              Param #   \n",
      "=================================================================\n",
      "flatten (Flatten)            (None, 784)               0         \n",
      "_________________________________________________________________\n",
      "dense (Dense)                (None, 128)               100480    \n",
      "_________________________________________________________________\n",
      "dropout (Dropout)            (None, 128)               0         \n",
      "_________________________________________________________________\n",
      "dense_1 (Dense)              (None, 64)                8256      \n",
      "_________________________________________________________________\n",
      "dropout_1 (Dropout)          (None, 64)                0         \n",
      "_________________________________________________________________\n",
      "dense_2 (Dense)              (None, 64)                4160      \n",
      "_________________________________________________________________\n",
      "dropout_2 (Dropout)          (None, 64)                0         \n",
      "_________________________________________________________________\n",
      "batch_normalization (BatchNo (None, 64)                256       \n",
      "_________________________________________________________________\n",
      "dense_3 (Dense)              (None, 32)                2080      \n",
      "_________________________________________________________________\n",
      "dense_4 (Dense)              (None, 10)                330       \n",
      "=================================================================\n",
      "Total params: 115,562\n",
      "Trainable params: 115,434\n",
      "Non-trainable params: 128\n",
      "_________________________________________________________________\n"
     ]
    }
   ],
   "source": [
    "model.summary()"
   ]
  },
  {
   "cell_type": "code",
   "execution_count": 36,
   "metadata": {},
   "outputs": [],
   "source": [
    "model.compile(\n",
    "    loss = \"sparse_categorical_crossentropy\", \n",
    "    optimizer = Adam(),\n",
    "    metrics = [\"accuracy\"])"
   ]
  },
  {
   "cell_type": "code",
   "execution_count": 46,
   "metadata": {},
   "outputs": [
    {
     "name": "stdout",
     "output_type": "stream",
     "text": [
      "Epoch 1/10\n",
      "7500/7500 [==============================] - 19s 2ms/step - loss: 0.3447 - accuracy: 0.8757\n",
      "Epoch 2/10\n",
      "7500/7500 [==============================] - 19s 2ms/step - loss: 0.3386 - accuracy: 0.8788\n",
      "Epoch 3/10\n",
      "7500/7500 [==============================] - 19s 3ms/step - loss: 0.3333 - accuracy: 0.8807\n",
      "Epoch 4/10\n",
      "7500/7500 [==============================] - 17s 2ms/step - loss: 0.3326 - accuracy: 0.8814\n",
      "Epoch 5/10\n",
      "7500/7500 [==============================] - 16s 2ms/step - loss: 0.3284 - accuracy: 0.8835\n",
      "Epoch 6/10\n",
      "7500/7500 [==============================] - 18s 2ms/step - loss: 0.3249 - accuracy: 0.8841\n",
      "Epoch 7/10\n",
      "7500/7500 [==============================] - 18s 2ms/step - loss: 0.3231 - accuracy: 0.8845\n",
      "Epoch 8/10\n",
      "7500/7500 [==============================] - 18s 2ms/step - loss: 0.3184 - accuracy: 0.8854\n",
      "Epoch 9/10\n",
      "7500/7500 [==============================] - 17s 2ms/step - loss: 0.3164 - accuracy: 0.8860\n",
      "Epoch 10/10\n",
      "7500/7500 [==============================] - 15s 2ms/step - loss: 0.3150 - accuracy: 0.8879\n"
     ]
    },
    {
     "data": {
      "text/plain": [
       "<keras.callbacks.History at 0x279f2377dc0>"
      ]
     },
     "execution_count": 46,
     "metadata": {},
     "output_type": "execute_result"
    }
   ],
   "source": [
    "model.fit(attributes_train, labels_train, epochs = 10, batch_size = 8, callbacks = [TensorBoard()])"
   ]
  },
  {
   "cell_type": "code",
   "execution_count": 45,
   "metadata": {},
   "outputs": [
    {
     "data": {
      "image/png": "[encoded data removed]",
      "text/plain": [
       "<Figure size 432x288 with 1 Axes>"
      ]
     },
     "metadata": {
      "needs_background": "light"
     },
     "output_type": "display_data"
    }
   ],
   "source": [
    "plt.hist(model.layers[1].kernel.numpy().ravel(), bins = \"fd\")\n",
    "plt.show()"
   ]
  },
  {
   "cell_type": "code",
   "execution_count": 53,
   "metadata": {},
   "outputs": [
    {
     "data": {
      "text/plain": [
       "<KerasTensor: shape=(None, 28, 28) dtype=float32 (created by layer 'input_1')>"
      ]
     },
     "execution_count": 53,
     "metadata": {},
     "output_type": "execute_result"
    }
   ],
   "source": [
    "model.input"
   ]
  },
  {
   "cell_type": "code",
   "execution_count": 54,
   "metadata": {},
   "outputs": [
    {
     "data": {
      "text/plain": [
       "<KerasTensor: shape=(None, 10) dtype=float32 (created by layer 'dense_4')>"
      ]
     },
     "execution_count": 54,
     "metadata": {},
     "output_type": "execute_result"
    }
   ],
   "source": [
    "model.output"
   ]
  },
  {
   "cell_type": "code",
   "execution_count": 55,
   "metadata": {},
   "outputs": [
    {
     "data": {
      "text/plain": [
       "<keras.layers.core.Dropout at 0x279f244c040>"
      ]
     },
     "execution_count": 55,
     "metadata": {},
     "output_type": "execute_result"
    }
   ],
   "source": [
    "model.layers[4]"
   ]
  },
  {
   "cell_type": "markdown",
   "metadata": {},
   "source": [
    "NN Explanation"
   ]
  },
  {
   "cell_type": "code",
   "execution_count": 58,
   "metadata": {},
   "outputs": [],
   "source": [
    "activation_demo_model = Model(inputs = [model.input], outputs = model.layers[4].output)"
   ]
  },
  {
   "cell_type": "code",
   "execution_count": 61,
   "metadata": {},
   "outputs": [],
   "source": [
    "activation_4_layer = activation_demo_model.predict(attributes_train[:10])"
   ]
  },
  {
   "cell_type": "code",
   "execution_count": 62,
   "metadata": {},
   "outputs": [
    {
     "data": {
      "text/plain": [
       "array([0.18138194, 0.2609607 , 1.0520877 , 0.8615298 , 0.25893214,\n",
       "       0.        , 0.232349  , 0.        , 0.        , 0.        ,\n",
       "       0.        , 0.        , 0.        , 0.        , 0.        ,\n",
       "       0.45265043, 0.        , 0.10962547, 0.        , 0.07318195,\n",
       "       0.5226433 , 0.        , 0.        , 0.        , 0.35686943,\n",
       "       0.        , 0.        , 0.399851  , 0.        , 0.8006954 ,\n",
       "       0.6003577 , 0.        , 0.        , 0.08287482, 0.4679935 ,\n",
       "       0.92439586, 0.        , 0.16866118, 1.4489017 , 0.        ,\n",
       "       0.10594729, 0.38484374, 0.        , 0.04915964, 1.0431927 ,\n",
       "       0.5500558 , 0.2502258 , 0.58821744, 0.44687298, 0.        ,\n",
       "       0.        , 0.21310388, 0.        , 0.36283475, 0.66700363,\n",
       "       1.0092293 , 0.11324108, 0.        , 0.        , 0.10835764,\n",
       "       0.27815142, 1.2153777 , 0.00243264, 0.27041924], dtype=float32)"
      ]
     },
     "execution_count": 62,
     "metadata": {},
     "output_type": "execute_result"
    }
   ],
   "source": [
    "activation_4_layer[0]"
   ]
  },
  {
   "cell_type": "code",
   "execution_count": 64,
   "metadata": {},
   "outputs": [
    {
     "data": {
      "text/plain": [
       "[(0, 0.18138194),\n",
       " (1, 0.2609607),\n",
       " (2, 1.0520877),\n",
       " (3, 0.8615298),\n",
       " (4, 0.25893214),\n",
       " (5, 0.0),\n",
       " (6, 0.232349),\n",
       " (7, 0.0),\n",
       " (8, 0.0),\n",
       " (9, 0.0),\n",
       " (10, 0.0),\n",
       " (11, 0.0),\n",
       " (12, 0.0),\n",
       " (13, 0.0),\n",
       " (14, 0.0),\n",
       " (15, 0.45265043),\n",
       " (16, 0.0),\n",
       " (17, 0.10962547),\n",
       " (18, 0.0),\n",
       " (19, 0.07318195),\n",
       " (20, 0.5226433),\n",
       " (21, 0.0),\n",
       " (22, 0.0),\n",
       " (23, 0.0),\n",
       " (24, 0.35686943),\n",
       " (25, 0.0),\n",
       " (26, 0.0),\n",
       " (27, 0.399851),\n",
       " (28, 0.0),\n",
       " (29, 0.8006954),\n",
       " (30, 0.6003577),\n",
       " (31, 0.0),\n",
       " (32, 0.0),\n",
       " (33, 0.08287482),\n",
       " (34, 0.4679935),\n",
       " (35, 0.92439586),\n",
       " (36, 0.0),\n",
       " (37, 0.16866118),\n",
       " (38, 1.4489017),\n",
       " (39, 0.0),\n",
       " (40, 0.105947286),\n",
       " (41, 0.38484374),\n",
       " (42, 0.0),\n",
       " (43, 0.04915964),\n",
       " (44, 1.0431927),\n",
       " (45, 0.5500558),\n",
       " (46, 0.2502258),\n",
       " (47, 0.58821744),\n",
       " (48, 0.44687298),\n",
       " (49, 0.0),\n",
       " (50, 0.0),\n",
       " (51, 0.21310388),\n",
       " (52, 0.0),\n",
       " (53, 0.36283475),\n",
       " (54, 0.66700363),\n",
       " (55, 1.0092293),\n",
       " (56, 0.113241084),\n",
       " (57, 0.0),\n",
       " (58, 0.0),\n",
       " (59, 0.10835764),\n",
       " (60, 0.27815142),\n",
       " (61, 1.2153777),\n",
       " (62, 0.002432638),\n",
       " (63, 0.27041924)]"
      ]
     },
     "execution_count": 64,
     "metadata": {},
     "output_type": "execute_result"
    }
   ],
   "source": [
    "list(enumerate(activation_4_layer[0]))"
   ]
  },
  {
   "cell_type": "code",
   "execution_count": 65,
   "metadata": {},
   "outputs": [
    {
     "data": {
      "text/plain": [
       "[0.0,\n",
       " 0.0,\n",
       " 0.0,\n",
       " 0.0,\n",
       " 0.0,\n",
       " 0.0,\n",
       " 0.0,\n",
       " 0.0,\n",
       " 0.0,\n",
       " 0.0,\n",
       " 0.0,\n",
       " 0.0,\n",
       " 0.0,\n",
       " 0.0,\n",
       " 0.0,\n",
       " 0.0,\n",
       " 0.0,\n",
       " 0.0,\n",
       " 0.0,\n",
       " 0.0,\n",
       " 0.0,\n",
       " 0.0,\n",
       " 0.0,\n",
       " 0.0,\n",
       " 0.0,\n",
       " 0.0,\n",
       " 0.0,\n",
       " 0.002432638,\n",
       " 0.04915964,\n",
       " 0.07318195,\n",
       " 0.08287482,\n",
       " 0.105947286,\n",
       " 0.10835764,\n",
       " 0.10962547,\n",
       " 0.113241084,\n",
       " 0.16866118,\n",
       " 0.18138194,\n",
       " 0.21310388,\n",
       " 0.232349,\n",
       " 0.2502258,\n",
       " 0.25893214,\n",
       " 0.2609607,\n",
       " 0.27041924,\n",
       " 0.27815142,\n",
       " 0.35686943,\n",
       " 0.36283475,\n",
       " 0.38484374,\n",
       " 0.399851,\n",
       " 0.44687298,\n",
       " 0.45265043,\n",
       " 0.4679935,\n",
       " 0.5226433,\n",
       " 0.5500558,\n",
       " 0.58821744,\n",
       " 0.6003577,\n",
       " 0.66700363,\n",
       " 0.8006954,\n",
       " 0.8615298,\n",
       " 0.92439586,\n",
       " 1.0092293,\n",
       " 1.0431927,\n",
       " 1.0520877,\n",
       " 1.2153777,\n",
       " 1.4489017]"
      ]
     },
     "execution_count": 65,
     "metadata": {},
     "output_type": "execute_result"
    }
   ],
   "source": [
    "sorted(activation_4_layer[0])"
   ]
  },
  {
   "cell_type": "code",
   "execution_count": 66,
   "metadata": {},
   "outputs": [
    {
     "data": {
      "text/plain": [
       "array([0.5500558 , 0.23242737, 0.        , 0.        , 0.        ,\n",
       "       0.1038956 , 0.2012135 , 0.40100962, 0.1128299 , 0.        ],\n",
       "      dtype=float32)"
      ]
     },
     "execution_count": 66,
     "metadata": {},
     "output_type": "execute_result"
    }
   ],
   "source": [
    "activation_4_layer[:, 45]"
   ]
  },
  {
   "cell_type": "code",
   "execution_count": 69,
   "metadata": {},
   "outputs": [
    {
     "data": {
      "image/png": "[encoded data removed]",
      "text/plain": [
       "<Figure size 432x288 with 1 Axes>"
      ]
     },
     "metadata": {
      "needs_background": "light"
     },
     "output_type": "display_data"
    }
   ],
   "source": [
    "plt.hist(activation_4_layer.ravel())\n",
    "plt.show()"
   ]
  },
  {
   "cell_type": "code",
   "execution_count": null,
   "metadata": {},
   "outputs": [],
   "source": []
  }
 ],
 "metadata": {
  "kernelspec": {
   "display_name": "Python 3",
   "language": "python",
   "name": "python3"
  },
  "language_info": {
   "codemirror_mode": {
    "name": "ipython",
    "version": 3
   },
   "file_extension": ".py",
   "mimetype": "text/x-python",
   "name": "python",
   "nbconvert_exporter": "python",
   "pygments_lexer": "ipython3",
   "version": "3.8.5"
  }
 },
 "nbformat": 4,
 "nbformat_minor": 4
}
